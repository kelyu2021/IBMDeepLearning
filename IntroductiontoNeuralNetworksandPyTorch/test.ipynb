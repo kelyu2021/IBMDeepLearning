{
 "cells": [
  {
   "cell_type": "code",
   "execution_count": 4,
   "metadata": {},
   "outputs": [
    {
     "name": "stdout",
     "output_type": "stream",
     "text": [
      "CPU Time: 78.9455 seconds\n",
      "MPS Time: 15.2594 seconds\n"
     ]
    }
   ],
   "source": [
    "import torch\n",
    "import time\n",
    "\n",
    "device_cpu = torch.device(\"cpu\")\n",
    "device_mps = torch.device(\"mps\")  # Ensure MPS is enabled\n",
    "\n",
    "# Test data\n",
    "size = 40000\n",
    "x = torch.randn(size, size)\n",
    "y = torch.randn(size, size)\n",
    "\n",
    "# On CPU\n",
    "start = time.time()\n",
    "_ = torch.matmul(x.to(device_cpu), y.to(device_cpu))\n",
    "print(f\"CPU Time: {time.time() - start:.4f} seconds\")\n",
    "\n",
    "# On MPS\n",
    "start = time.time()\n",
    "_ = torch.matmul(x.to(device_mps), y.to(device_mps))\n",
    "print(f\"MPS Time: {time.time() - start:.4f} seconds\")"
   ]
  },
  {
   "cell_type": "code",
   "execution_count": null,
   "metadata": {},
   "outputs": [],
   "source": [
    "# 40000\n",
    "# CPU Time: 78.9455 seconds\n",
    "# MPS Time: 15.2594 seconds"
   ]
  }
 ],
 "metadata": {
  "kernelspec": {
   "display_name": "mps-python-3.11",
   "language": "python",
   "name": "python3"
  },
  "language_info": {
   "codemirror_mode": {
    "name": "ipython",
    "version": 3
   },
   "file_extension": ".py",
   "mimetype": "text/x-python",
   "name": "python",
   "nbconvert_exporter": "python",
   "pygments_lexer": "ipython3",
   "version": "3.11.11"
  }
 },
 "nbformat": 4,
 "nbformat_minor": 2
}
