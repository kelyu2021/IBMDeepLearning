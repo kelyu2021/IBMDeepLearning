{
 "cells": [
  {
   "cell_type": "code",
   "execution_count": 40,
   "metadata": {},
   "outputs": [],
   "source": [
    "import keras\n",
    "from sklearn.model_selection import train_test_split\n",
    "from sklearn.metrics import mean_squared_error\n",
    "from keras.models import Sequential\n",
    "from keras.layers import Dense, Input\n",
    "from tensorflow.keras.optimizers import Adam\n",
    "import pandas as pd\n",
    "import numpy as np"
   ]
  },
  {
   "cell_type": "code",
   "execution_count": 59,
   "metadata": {},
   "outputs": [],
   "source": [
    "concrete_data = pd.read_csv('concrete_data.csv')\n",
    "# Separate features and target variable\n",
    "X = concrete_data.iloc[:, :-1] # features (all columns except the last)\n",
    "y = concrete_data.iloc[:, -1] # target (last column)"
   ]
  },
  {
   "cell_type": "code",
   "execution_count": 54,
   "metadata": {},
   "outputs": [],
   "source": [
    "# build a model\n",
    "def regression_model():\n",
    "    model = Sequential()\n",
    "    model.add(Input((X.shape[1], )))\n",
    "    model.add(Dense(10, activation='relu'))\n",
    "    model.add(Dense(1))\n",
    "    model.compile(optimizer=Adam(), loss='mean_squared_error')\n",
    "    return model"
   ]
  },
  {
   "cell_type": "markdown",
   "metadata": {},
   "source": [
    "# Part A"
   ]
  },
  {
   "cell_type": "code",
   "execution_count": null,
   "metadata": {},
   "outputs": [
    {
     "name": "stdout",
     "output_type": "stream",
     "text": [
      "mean of mse: 385.03815938408894\n",
      "standard deviation of mse: 380.3731284990745\n"
     ]
    }
   ],
   "source": [
    "mse_list = []\n",
    "# loop to repeat steps 1-3 for 50 iterations\n",
    "for i in range(50):\n",
    "    # step 1: split data into training and test sets\n",
    "    x_train, x_test, y_train, y_test = train_test_split(X, y, test_size=0.3)\n",
    "    model = regression_model()\n",
    "    model.fit(x_train, y_train, epochs=50, verbose=0)\n",
    "    y_pred = model.predict(x_test, verbose=0)\n",
    "    mse = mean_squared_error(y_pred, y_test)\n",
    "    mse_list.append(mse)\n",
    "\n",
    "mean_mse = np.mean(mse_list)\n",
    "std_mse = np.std(mse_list)\n",
    "\n",
    "print(f'mean of mse: {mean_mse}')\n",
    "print(f'standard deviation of mse: {std_mse}')"
   ]
  },
  {
   "cell_type": "markdown",
   "metadata": {},
   "source": [
    "# Part B"
   ]
  },
  {
   "cell_type": "code",
   "execution_count": 51,
   "metadata": {},
   "outputs": [
    {
     "name": "stdout",
     "output_type": "stream",
     "text": [
      "mean of mse: 349.699960815675\n",
      "standard deviation of mse: 92.82591133881155\n"
     ]
    }
   ],
   "source": [
    "# normalize X\n",
    "X_norm = (X - X.mean())/X.std()\n",
    "\n",
    "mse_list = []\n",
    "# loop to repeat steps 1-3 for 50 iterations\n",
    "for i in range(50):\n",
    "    # step 1: split data into training and test sets\n",
    "    x_train, x_test, y_train, y_test = train_test_split(X_norm, y, test_size=0.3)\n",
    "    model = regression_model()\n",
    "    model.fit(x_train, y_train, epochs=50, verbose=0)\n",
    "    # step 3: evaluate the model\n",
    "    y_pred = model.predict(x_test, verbose=0)\n",
    "    mse = mean_squared_error(y_pred, y_test)\n",
    "    mse_list.append(mse)\n",
    "\n",
    "# calculate mean and standard deviation of MSEs\n",
    "mean_mse = np.mean(mse_list)\n",
    "std_mse = np.std(mse_list)\n",
    "\n",
    "print(f'mean of mse: {mean_mse}')\n",
    "print(f'standard deviation of mse: {std_mse}')"
   ]
  },
  {
   "cell_type": "markdown",
   "metadata": {},
   "source": [
    "# Part C"
   ]
  },
  {
   "cell_type": "code",
   "execution_count": 52,
   "metadata": {},
   "outputs": [
    {
     "name": "stdout",
     "output_type": "stream",
     "text": [
      "mean of mse: 163.15276901831984\n",
      "standard deviation of mse: 13.547895270337447\n"
     ]
    }
   ],
   "source": [
    "# normalize X\n",
    "X_norm = (X - X.mean())/X.std()\n",
    "\n",
    "mse_list = []\n",
    "# loop to repeat steps 1-3 for 50 iterations\n",
    "for i in range(50):\n",
    "    # step 1: split data into training and test sets\n",
    "    x_train, x_test, y_train, y_test = train_test_split(X_norm, y, test_size=0.3)\n",
    "    model = regression_model()\n",
    "    # epoche changed from 50 to 100\n",
    "    model.fit(x_train, y_train, epochs=100, verbose=0)\n",
    "    # step 3: evaluate the model\n",
    "    y_pred = model.predict(x_test, verbose=0)\n",
    "    mse = mean_squared_error(y_pred, y_test)\n",
    "    mse_list.append(mse)\n",
    "\n",
    "# calculate mean and standard deviation of MSEs\n",
    "mean_mse = np.mean(mse_list)\n",
    "std_mse = np.std(mse_list)\n",
    "\n",
    "print(f'mean of mse: {mean_mse}')\n",
    "print(f'standard deviation of mse: {std_mse}')"
   ]
  },
  {
   "cell_type": "markdown",
   "metadata": {},
   "source": [
    "# Part D"
   ]
  },
  {
   "cell_type": "code",
   "execution_count": 60,
   "metadata": {},
   "outputs": [],
   "source": [
    "def regression_model_2():\n",
    "    n_cols = X.shape[1]\n",
    "    model = Sequential()\n",
    "    model.add(Input((n_cols, )))\n",
    "    # Three hidden layers, each of 10 nodes and ReLU activation function.\n",
    "    model.add(Dense(10, activation='relu'))\n",
    "    model.add(Dense(10, activation='relu'))\n",
    "    model.add(Dense(10, activation='relu'))\n",
    "    model.add(Dense(1))\n",
    "    model.compile(optimizer=Adam(), loss='mean_squared_error')\n",
    "    return model"
   ]
  },
  {
   "cell_type": "code",
   "execution_count": 64,
   "metadata": {},
   "outputs": [
    {
     "name": "stdout",
     "output_type": "stream",
     "text": [
      "mean of mse: 126.21218119565341\n",
      "standard deviation of mse: 18.038221728320984\n"
     ]
    }
   ],
   "source": [
    "# normalize X\n",
    "X_norm = (X - X.mean())/X.std()\n",
    "\n",
    "mse_list = []\n",
    "# loop to repeat steps 1-3 for 50 iterations\n",
    "for i in range(50):\n",
    "    # step 1: split data into training and test sets\n",
    "    x_train, x_test, y_train, y_test = train_test_split(X_norm, y, test_size=0.3)\n",
    "    model = regression_model_2()\n",
    "    model.fit(x_train, y_train, epochs=50, verbose=0)\n",
    "    # step 3: evaluate the model\n",
    "    y_pred = model.predict(x_test, verbose=0)\n",
    "    mse = mean_squared_error(y_pred, y_test)\n",
    "    mse_list.append(mse)\n",
    "\n",
    "# calculate mean and standard deviation of MSEs\n",
    "mean_mse = np.mean(mse_list)\n",
    "std_mse = np.std(mse_list)\n",
    "\n",
    "print(f'mean of mse: {mean_mse}')\n",
    "print(f'standard deviation of mse: {std_mse}')"
   ]
  }
 ],
 "metadata": {
  "kernelspec": {
   "display_name": "python-3.12",
   "language": "python",
   "name": "python3"
  },
  "language_info": {
   "codemirror_mode": {
    "name": "ipython",
    "version": 3
   },
   "file_extension": ".py",
   "mimetype": "text/x-python",
   "name": "python",
   "nbconvert_exporter": "python",
   "pygments_lexer": "ipython3",
   "version": "3.12.8"
  }
 },
 "nbformat": 4,
 "nbformat_minor": 2
}
